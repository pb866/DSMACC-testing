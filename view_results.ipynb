{
 "cells": [
  {
   "cell_type": "markdown",
   "metadata": {},
   "source": [
    "## An example of how to view DSMACC results\n",
    "\n",
    "Firstly start by importing the provided library from the main DSMACC directory. "
   ]
  },
  {
   "cell_type": "code",
   "execution_count": 1,
   "metadata": {
    "collapsed": false
   },
   "outputs": [
    {
     "name": "stdout",
     "output_type": "stream",
     "text": [
      "loading libraries\n",
      "ready\n"
     ]
    }
   ],
   "source": [
    "%matplotlib inline \n",
    "# above only needed for Jupyter notebooks \n",
    "\n",
    "import dsmacc"
   ]
  },
  {
   "cell_type": "markdown",
   "metadata": {},
   "source": [
    "#### For each NetCDF file, we can select a run and create an object that contains its data\n",
    "\n",
    "The `sim_data` class may be given arguments for a filename or groupid (index number of the required group should we not require interactive selection. "
   ]
  },
  {
   "cell_type": "code",
   "execution_count": 2,
   "metadata": {
    "collapsed": false
   },
   "outputs": [
    {
     "name": "stdout",
     "output_type": "stream",
     "text": [
      "Select file to open: \n",
      "\n",
      "0  -  methane_1707051607.nc\n",
      "1  -  methane_1707051609.nc\n",
      "Enter Number \n",
      "1\n",
      "methane took 58 seconds to compute.\n"
     ]
    }
   ],
   "source": [
    "example_file = dsmacc.sim_data()"
   ]
  },
  {
   "cell_type": "markdown",
   "metadata": {},
   "source": [
    "#### Should we forget our selection we are able to draw this information out again"
   ]
  },
  {
   "cell_type": "code",
   "execution_count": 3,
   "metadata": {
    "collapsed": false
   },
   "outputs": [
    {
     "name": "stdout",
     "output_type": "stream",
     "text": [
      "Filename selected: methane_1707051609.nc\n",
      "Date: Completion time:Wednesday 05 July 2017 at 16:09\n",
      "Group: methane\n",
      "Description: Optional,Do not write time more than once. ,,\n"
     ]
    }
   ],
   "source": [
    "print 'Filename selected: %s'%example_file.filename\n",
    "print 'Date: %s'%example_file.date\n",
    "print 'Group: %s'%example_file.group\n",
    "print example_file.description"
   ]
  },
  {
   "cell_type": "markdown",
   "metadata": {},
   "source": [
    "#### Our species and rates are saved as a pandas dataframe"
   ]
  },
  {
   "cell_type": "code",
   "execution_count": 4,
   "metadata": {
    "collapsed": false
   },
   "outputs": [
    {
     "name": "stdout",
     "output_type": "stream",
     "text": [
      "Species:\n",
      " TIME\n",
      "1970-06-23 00:10:00    2.000000e-08\n",
      "1970-06-23 00:20:00    2.000000e-08\n",
      "1970-06-23 00:30:00    2.000000e-08\n",
      "1970-06-23 00:40:00    2.000000e-08\n",
      "1970-06-23 00:50:00    2.000000e-08\n",
      "Name: CH4, dtype: float64\n",
      "\n",
      "Rates:\n",
      " TIME\n",
      "1970-06-23 00:10:00    1.028993e-13\n",
      "1970-06-23 00:20:00    1.028993e-13\n",
      "1970-06-23 00:30:00    1.028993e-13\n",
      "1970-06-23 00:40:00    1.028993e-13\n",
      "1970-06-23 00:50:00    1.028993e-13\n",
      "Name: CL+CH4-->CH3O2, dtype: float64\n"
     ]
    }
   ],
   "source": [
    "print 'Species:\\n %s\\n'%example_file.specs['CH4'].head()\n",
    "print 'Rates:\\n %s'%example_file.rates['CL+CH4-->CH3O2'].head()"
   ]
  },
  {
   "cell_type": "markdown",
   "metadata": {},
   "source": [
    "#### Species names and rates can be extracted from the pandas dataframes or using `.snames` and `.rnames`\n",
    "Since these only contain reactions or concentrations > 0, \n",
    "we can also look at those with `.noconc` and `.norate`"
   ]
  },
  {
   "cell_type": "code",
   "execution_count": 5,
   "metadata": {
    "collapsed": false
   },
   "outputs": [
    {
     "name": "stdout",
     "output_type": "stream",
     "text": [
      "\n",
      " spec columns: RO2 NA CO2 O1D\n",
      "\n",
      " rate columns: CL+CH4-->CH3O2 CH4+OH-->CH3O2 CH3O2+HO2-->CH3OOH CH3O2+HO2-->HCHO\n",
      "\n",
      " ommited specs: HSO3 SO3 SA CL\n",
      "\n",
      " ommited rates: EMISS-->EMISS CH3O2+NO-->CH3NO3 CH3O2+NO3-->CH3O+NO2 HCHO+NO3-->CO+HNO3+HO2\n"
     ]
    }
   ],
   "source": [
    "#view the first 4 of each group\n",
    "print '\\n spec columns: '+ ' '.join(example_file.snames[:4])\n",
    "print '\\n rate columns: '+ ' '.join(example_file.rnames[:4])\n",
    "print '\\n ommited specs: '+ ' '.join(example_file.noconc[:4])\n",
    "print '\\n ommited rates: '+ ' '.join(example_file.norate[:4])"
   ]
  },
  {
   "cell_type": "markdown",
   "metadata": {},
   "source": [
    "#### For quick plotting we can use the `.plot` function with one or more species. \n",
    "This has an optional `what` argument that may be either specs or rates"
   ]
  },
  {
   "cell_type": "code",
   "execution_count": 6,
   "metadata": {
    "collapsed": false
   },
   "outputs": [
    {
     "data": {
      "image/png": "[encoded data removed]",
      "text/plain": [
       "<matplotlib.figure.Figure at 0x10f7a7750>"
      ]
     },
     "metadata": {},
     "output_type": "display_data"
    }
   ],
   "source": [
    "example_file.plot(['NO','NO2'],what='specs')\n"
   ]
  },
  {
   "cell_type": "markdown",
   "metadata": {},
   "source": [
    "#### For full diagnostics we can use `.pdfdiagnostics`.\n",
    "This has a `what` argument that may be either specs or rates, and a `n_subplot` argument which corresponds to the number of subplots per page of the pdf"
   ]
  },
  {
   "cell_type": "code",
   "execution_count": 7,
   "metadata": {
    "collapsed": false
   },
   "outputs": [
    {
     "name": "stdout",
     "output_type": "stream",
     "text": [
      "creating a diagnostic pdf of specs\n",
      "0.000 % done\n",
      "0.250 % done\n",
      "0.500 % done\n",
      "0.750 % done\n",
      "PDF out\n"
     ]
    }
   ],
   "source": [
    "example_file.pdfdiagnostics(what='specs',n_subplot = 5)\n"
   ]
  },
  {
   "cell_type": "markdown",
   "metadata": {},
   "source": [
    "####  Example Section of an nheptane simulation pdf\n",
    "![ Example Section of an earlier pdf](img/pdfdiagnostics.png)"
   ]
  },
  {
   "cell_type": "markdown",
   "metadata": {},
   "source": [
    "#### Finally the flux array may be calculated\n",
    "Where `example_file.flux` is the flux matrix"
   ]
  },
  {
   "cell_type": "code",
   "execution_count": 8,
   "metadata": {
    "collapsed": false
   },
   "outputs": [
    {
     "name": "stdout",
     "output_type": "stream",
     "text": [
      "running the ropacode\n"
     ]
    },
    {
     "data": {
      "text/plain": [
       "array([[  0.00000000e+000,   0.00000000e+000,   0.00000000e+000, ...,\n",
       "          0.00000000e+000,   0.00000000e+000,   0.00000000e+000],\n",
       "       [  0.00000000e+000,   0.00000000e+000,   0.00000000e+000, ...,\n",
       "          0.00000000e+000,   0.00000000e+000,   0.00000000e+000],\n",
       "       [  0.00000000e+000,   0.00000000e+000,   0.00000000e+000, ...,\n",
       "          0.00000000e+000,   0.00000000e+000,   0.00000000e+000],\n",
       "       ..., \n",
       "       [  0.00000000e+000,   4.91510929e-059,   3.70568330e-126, ...,\n",
       "         -0.00000000e+000,   0.00000000e+000,   0.00000000e+000],\n",
       "       [  0.00000000e+000,   1.09788928e-061,   1.84892377e-131, ...,\n",
       "         -0.00000000e+000,   0.00000000e+000,   0.00000000e+000],\n",
       "       [  0.00000000e+000,   2.45235823e-064,   9.22507088e-137, ...,\n",
       "         -0.00000000e+000,   0.00000000e+000,   0.00000000e+000]])"
      ]
     },
     "execution_count": 8,
     "metadata": {},
     "output_type": "execute_result"
    }
   ],
   "source": [
    "example_file.ropa()\n",
    "example_file.flux"
   ]
  },
  {
   "cell_type": "markdown",
   "metadata": {},
   "source": [
    "#### . . . or alternatively a ropa NetCDF file may be created and dragged into the link given for an interactive analysis"
   ]
  },
  {
   "cell_type": "code",
   "execution_count": 9,
   "metadata": {
    "collapsed": false
   },
   "outputs": [
    {
     "name": "stdout",
     "output_type": "stream",
     "text": [
      "making an NCFILE for the online tool: \n",
      "www-users.york.ac.uk/~dp626/MCMtools/dsmaccropa\n",
      "\n",
      "running the ropacode\n",
      "no concentration for u'CH3OOH'\n",
      "no concentration for u'DUMMY'\n",
      "no concentration for u'CH3OOH'\n",
      "no concentration for u'CH3O2'\n",
      "no concentration for u'CH3O2'\n",
      "no concentration for u'CO'\n",
      "no concentration for u'SO3'\n",
      "no concentration for u'CH3OH'\n",
      "no concentration for u'CH3O2'\n",
      "no concentration for u'CH3OOH'\n",
      "no concentration for u'CH3O'\n",
      "no concentration for u'CH3OH'\n",
      "no concentration for u'CH3NO3'\n",
      "no concentration for u'CO'\n",
      "no concentration for u'DUMMY'\n",
      "no concentration for u'CO'\n",
      "no concentration for u'DUMMY'\n",
      "no concentration for u'DUMMY'\n",
      "no concentration for u'CH3OH'\n",
      "no concentration for u'CH3OOH'\n",
      "list index out of range [u'NO2']\n",
      "no concentration for u'CH3NO3'\n",
      "no concentration for u'CH3O'\n",
      "no concentration for u'CH3O2'\n",
      "no concentration for u'CO'\n",
      "no concentration for u'CH3O2NO2'\n",
      "no concentration for u'HSO3'\n",
      "list index out of range [u'OH']\n",
      "no concentration for u'CH3O'\n",
      "no concentration for u'CH3OOH'\n",
      "no concentration for u'CH3O2'\n",
      "no concentration for u'CH3O2'\n",
      "no concentration for u'CH3O2NO2'\n",
      "no concentration for u'CH3NO3'\n",
      "nc write\n"
     ]
    }
   ],
   "source": [
    "example_file.d3ropatool()"
   ]
  },
  {
   "cell_type": "markdown",
   "metadata": {},
   "source": [
    "#### www-users.york.ac.uk/~dp626/MCMtools/dsmaccropa shows the following format.\n",
    "\n",
    "![Alt Text](img/multiropa.gif)"
   ]
  },
  {
   "cell_type": "code",
   "execution_count": null,
   "metadata": {
    "collapsed": true
   },
   "outputs": [],
   "source": []
  }
 ],
 "metadata": {
  "kernelspec": {
   "display_name": "Python 2",
   "language": "python",
   "name": "python2"
  },
  "language_info": {
   "codemirror_mode": {
    "name": "ipython",
    "version": 2
   },
   "file_extension": ".py",
   "mimetype": "text/x-python",
   "name": "python",
   "nbconvert_exporter": "python",
   "pygments_lexer": "ipython2",
   "version": "2.7.12"
  }
 },
 "nbformat": 4,
 "nbformat_minor": 0
}
